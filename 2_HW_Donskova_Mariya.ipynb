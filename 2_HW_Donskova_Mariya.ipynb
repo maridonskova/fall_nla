{
 "cells": [
  {
   "cell_type": "markdown",
   "metadata": {},
   "source": [
    "# Домашнее задание 2 (20 + 40 = 60 pts )"
   ]
  },
  {
   "cell_type": "markdown",
   "metadata": {},
   "source": [
    "## Задача 1 (20 pts)\n",
    "\n",
    "- (5 pts) Докажите, что $\\mathrm{vec}(AXB) = (B^\\top \\otimes A)\\, \\mathrm{vec}(X)$, если $\\mathrm{vec}(X)$ векторизация матрицы по столбцам. Что и почему изменится, если использовать векторизацию по строкам? \n",
    "\n",
    "- (2 pts) Какова сложность наивного вычислени $(A \\otimes B) x$ и почему она такова? Покажите, как она может быть снижена.\n",
    "\n",
    "- (3 pts) Пусть матрицы $A$ и $B$ имеют спектральные разложения $A = S_A\\Lambda_A S_A^{-1}$ и $B = S_B\\Lambda_B S^{-1}_B$. Найдите собственные векторы и собственные значения у матрицы $A\\otimes I + I \\otimes B$.\n",
    "\n",
    "- (10 pts) Пусть $A = \\mathrm{diag}\\left(\\frac{1}{1000},\\frac{2}{1000},\\dots \\frac{999}{1000}, 1, 1000 \\right)$. Оцените аналитически число итераций необходимых для решения линейной системы с матрицей $A$ с относительной точностью $10^{-4}$ используя\n",
    "    - метод Ричардсона с оптимальным параметром (используйте евклидову норму)\n",
    "    - метод Чебышёва (используйте евклидову норму)\n",
    "    - метод сопряжённых градиентов (используйте $A$-норму)."
   ]
  },
  {
   "cell_type": "code",
   "execution_count": 1,
   "metadata": {},
   "outputs": [],
   "source": [
    "# Место для Вашего решения"
   ]
  },
  {
   "cell_type": "markdown",
   "metadata": {},
   "source": [
    "- (5 pts) Докажите, что $\\mathrm{vec}(AXB) = (B^\\top \\otimes A)\\, \\mathrm{vec}(X)$, если $\\mathrm{vec}(X)$ векторизация матрицы по столбцам. Что и почему изменится, если использовать векторизацию по строкам? "
   ]
  },
  {
   "cell_type": "markdown",
   "metadata": {},
   "source": [
    "Использовалось: https://www.ime.unicamp.br/~cnaber/Kronecker.pdf\n",
    "\n",
    "По определению, если $A = [a_1 a_2 ... a_n]$ , то \n",
    "$ vec(A) = \\begin{bmatrix} a_1 \\\\ a_2 \\\\ ... \\\\ a_n \\end{bmatrix}$\n",
    "\n",
    "Пусть матрица $B = \\begin{bmatrix} b_{11} & b_{12} & ... & b_{1n} \\\\ b_{21} & b_{22} & ... & b_{2n} \\\\ ...& & & \\\\  b_{m1} & b_{m2} & ... & b_{mn} \\end{bmatrix} = [b_1 b_2 ... b_n] $ m на n \n",
    "\n",
    "$X = [x_1 x_2 .. x_m]$\n",
    "Рассматроим k-ый солбец матрицы $AXB$:\n",
    "\n",
    "$(AXB)_k = A(Xb_k) = A \\sum_{i=1}^m x_i b_{ik} = [b_{1k} A, b_{2k} A, ..., b_{mk} A] \\begin{bmatrix} x_1 \\\\ x_2 \\\\ ... \\\\ x_m \\end{bmatrix} = $\n",
    " \n",
    "Последний множитель это, очевидно, $vec(X)$\n",
    "\n",
    "$= ([b_{1k}, b_{2k}, ..., b_{mk}] \\otimes A) vec(X) = (b^T_k \\otimes A) vec(X)$\n",
    "\n",
    "Складывая столбцы вместе:\n",
    "\n",
    "$\\mathrm{vec}(AXB) = \\begin{bmatrix} (AXB)_1 \\\\ (AXB)_2 \\\\ ... \\\\ (AXB)_n \\end{bmatrix} = \\begin{bmatrix} b^T_1 \\otimes A \\\\ b^T_2 \\otimes A \\\\ ... \\\\ b^T_n \\otimes A \\end{bmatrix} vec(X) = (B^\\top \\otimes A)\\, \\mathrm{vec}(X) $\n",
    "\n",
    "Если использовать векторизацию по строкам:\n",
    "$$\n",
    "\\mbox{vec}_r (AXB) = \\mbox{vec}(B^T X^T A^T) = (A \\otimes B^T)\\mbox{vec} (X^T) = (A \\otimes B^T) \\mbox{vec}_r X\n",
    "$$"
   ]
  },
  {
   "cell_type": "markdown",
   "metadata": {},
   "source": [
    "- (2 pts) Какова сложность наивного вычислени $(A \\otimes B) x$ и почему она такова? Покажите, как она может быть снижена."
   ]
  },
  {
   "cell_type": "markdown",
   "metadata": {},
   "source": [
    "Пусть $A \\in \\mathbb{R}_{n \\times m}$, $B \\in \\mathbb{R}_{k \\times l}$\n",
    "$x \\in \\mathbb{R}_{ml \\times 1}$, $X \\in \\mathbb{R}_{l \\times m}$ \n",
    "\n",
    "Сложность умножения $(A \\otimes B)x$ это $\\mathcal{O}(nkml) = O(n^4)$ \n",
    "\n",
    "Пусть $x$ = vec($X$), тогда:\n",
    "$$ (A \\otimes B) \\mbox{vec}(X) = \\mbox{vec}(BXA^T) $$\n",
    "Сложность $\\mbox{vec}(BXA^T)$ это $\\mathcal{O}((n+l)km) = O(n^3) $"
   ]
  },
  {
   "cell_type": "markdown",
   "metadata": {},
   "source": [
    "- (3 pts) Пусть матрицы $A$ и $B$ имеют спектральные разложения $A = S_A\\Lambda_A S_A^{-1}$ и $B = S_B\\Lambda_B S^{-1}_B$. Найдите собственные векторы и собственные значения у матрицы $A\\otimes I + I \\otimes B$."
   ]
  },
  {
   "cell_type": "markdown",
   "metadata": {},
   "source": [
    "Пусть $Ax=\\lambda_A x$ и $By=\\lambda_B y$ \n",
    "\n",
    "$A = S_A\\Lambda_A S_A^{-1}$ и $B = S_B\\Lambda_B S^{-1}_B$ . \n",
    "Столбцы $S_A$ - это собственые векторы, а в $\\Lambda_A$  на диагонали лежат собственные значения матрицы  $A$.\n",
    "\n",
    "Используя свойства из методички приложенной выше:\n",
    "1. $A \\otimes (B + C) = (A \\otimes B) + (A \\otimes C)$\n",
    "2. $(A \\otimes B)(C \\otimes D) = (AC \\otimes BD)$\n",
    "\n",
    "\n",
    "$\n",
    "(S_A^{-1} \\otimes S_B^{-1}) (A \\otimes I + I \\otimes B) (S_A \\otimes S_B) = (S_A^{-1} \\otimes S_B^{-1}) (A \\otimes I) (S_A \\otimes S_B) + (S_A^{-1} \\otimes S_B^{-1}) (I \\otimes B) (S_A \\otimes S_B) =  $\n",
    "\n",
    "$ = S_A^{-1} A S_A \\otimes S^{-1}_B I S_B + S_A^{-1} I S_A \\otimes S_B^{-1} B S_B = \\\\\n",
    "= \\Lambda_A \\otimes I + I \\otimes \\Lambda_B = \n",
    "\\begin{bmatrix}\n",
    "(\\lambda_A)_1 I & \\dots & 0 \\\\\n",
    "\\vdots & \\ddots & \\vdots \\\\\n",
    "0 & \\dots & (\\lambda_A)_n I\n",
    "\\end{bmatrix} +\n",
    "\\begin{bmatrix}\n",
    "\\Lambda_B & \\dots & 0 \\\\\n",
    "\\vdots & \\ddots & \\vdots \\\\\n",
    "0 & \\dots & \\Lambda_B\n",
    "\\end{bmatrix}, \\,$ где\n",
    "\n",
    "$\\Lambda_B = \n",
    "\\begin{bmatrix}\n",
    "(\\lambda_B)_1 & \\dots & 0 \\\\\n",
    "\\vdots & \\ddots & \\vdots \\\\\n",
    "0 & \\dots & (\\lambda_B)_m\n",
    "\\end{bmatrix}\n",
    "$\n",
    "Значит, i-ое собственное число матрицы $A\\otimes I + I \\otimes B$ это сумма $(\\lambda_A)_i + (\\lambda_B)_1, (\\lambda_A)_i + (\\lambda_B)_2, ... ,(\\lambda_A)_i + (\\lambda_B)_n$\n",
    "Собственные векторы соответственные столбцы матрицы $(S_A \\otimes S_B) $\n",
    "- $ (A\\otimes I + I \\otimes B)(x \\otimes y)  = Ax \\otimes y + x \\otimes By = \\lambda_A x \\otimes y + x \\otimes \\lambda_By = (\\lambda_{A} + \\lambda_{B})(x \\otimes y) $ собственные вектора"
   ]
  },
  {
   "cell_type": "markdown",
   "metadata": {},
   "source": [
    "- (10 pts) Пусть $A = \\mathrm{diag}\\left(\\frac{1}{1000},\\frac{2}{1000},\\dots \\frac{999}{1000}, 1, 1000 \\right)$. Оцените аналитически число итераций необходимых для решения линейной системы с матрицей $A$ с относительной точностью $10^{-4}$ используя\n",
    "    - метод Ричардсона с оптимальным параметром (используйте евклидову норму)\n",
    "    - метод Чебышёва (используйте евклидову норму)\n",
    "    - метод сопряжённых градиентов (используйте $A$-норму)."
   ]
  },
  {
   "cell_type": "code",
   "execution_count": 2,
   "metadata": {},
   "outputs": [
    {
     "name": "stdout",
     "output_type": "stream",
     "text": [
      "0.998001998001998\n",
      "4605.168650930854\n",
      "4951.742125686258\n",
      "2150.5149978319905\n",
      "4605.168650930854\n"
     ]
    }
   ],
   "source": [
    "import numpy as np\n",
    "import math\n",
    "q_1 = (1000-1/1000)/(1000+1/1000)\n",
    "-4 / math.log(0.999998000002, 10)\n",
    "A = np.zeros([1001, 1001])\n",
    "for i in range(1000):\n",
    "    for j in range(1000):\n",
    "        A[i][i] = (i+1) / 1000\n",
    "A[1000][1000] = 1000\n",
    "np.linalg.cond(A)\n",
    "q_2 = (math.sqrt(np.linalg.cond(A)) - 1) / (math.sqrt(np.linalg.cond(A)) + 1)\n",
    "print(q_2)\n",
    "print(-4 / math.log(0.998001998001998, 10))\n",
    "print((-4 - math.log(2,10)) / math.log( 999 / 1001, 10))\n",
    "\n",
    "print( (0.5 * math.sqrt(1000 / (1/1000))) * (math.log(2,10) + 4) )\n",
    "print( 4 / 0.0008685892533363507 )\n"
   ]
  },
  {
   "cell_type": "markdown",
   "metadata": {},
   "source": [
    "   **метод Ричардсона с оптимальным параметром (используйте евклидову норму)**\n",
    "\n",
    "$e_k = x_k - x_* $\n",
    "\n",
    "$e_k \\geq q^k e_0$\n",
    "\n",
    "$e_0 = \\|x_0 - x_*\\|_2 $, пусть $x_0 = 0$, тогда $e_0 = \\|x_*\\|_2$\n",
    "\n",
    "$10^{-4} \\geq q^k e_0$\n",
    "\n",
    "$q^k \\leq 10^{-4} $\n",
    "\n",
    "$k log q \\leq -4$\n",
    "\n",
    "$q = \\frac{\\lambda_{max}-\\lambda_{min}}{\\lambda_{max}+\\lambda_{min}} = \\frac{1000-\\frac{1}{1000}}{1000+\\frac{1}{1000}} =  0.999998000002$\n",
    "\n",
    "$k \\geq 4605170 - \\log_q e_0 $\n",
    "\n",
    "Пусть $e_0 = 1$\n",
    "\n",
    "$k \\geq 4605170 $\n",
    "\n",
    "  **метод Чебышёва (используйте евклидову норму)**\n",
    "    \n",
    " $e_{k+1} \\geq C q^{k} e_0$\n",
    "\n",
    "$q = \\frac{\\sqrt{cond(A)} - 1}{\\sqrt{cond(A)} + 1} = 0.998001998001998$\n",
    "\n",
    "также пусть $x_0 = 0$, тогда $e_0 = \\|x_*\\|_2$\n",
    "\n",
    "$e_k \\geq C q^{k-1} e_0$\n",
    "\n",
    "$\\log{e_k} \\geq \\log{C} +  \\log{q^{k-1}} + \\log{e_0}$\n",
    "\n",
    "$\\log{e_k} - \\log{C} - \\log{e_0} \\geq \\log{q^{k-1}}$\n",
    "\n",
    "Пусть $C = 1, e_0 = 1$\n",
    "\n",
    "$-4 \\geq  (k-1) * -0.0008685892533363507 $\n",
    "\n",
    "$ 4605.168650930854 \\leq  (k-1)$\n",
    "\n",
    "$k \\geq 4606$\n",
    "\n",
    "\n",
    "   **метод сопряжённых градиентов (используйте $A$-норму)**\n",
    "\n",
    "$\n",
    "\\frac{\\|x_k - x_* \\|_A}{\\| x_* \\|_A} \\geq 2 \\Big( \\frac{\\sqrt{\\mbox{cond}(A)} - 1}{\\sqrt{\\mbox{cond}(A)} + 1} \\Big)^k $\n",
    "\n",
    "$ -4 \\geq \\log_(2 \\Big( \\frac{999}{1001} \\Big)^k )= \\log 2 + k \\log_(\\frac{999}{1001}) $\n",
    "\n",
    "$ -4 - \\log 2 \\geq k \\log_(\\frac{999}{1001}) $\n",
    "\n",
    "$k \\leq \\frac{-4 \\log 2}{\\log_(\\frac{999}{1001})}  = 4952$\n",
    "\n",
    "Можно улучшить результат: http://www.mat.uniroma2.it/~tvmsscho/Rome-Moscow_School/2012/files/T120910_.pdf\n",
    "\n",
    "$ k \\leq \\frac{1}{2} \\sqrt{\\frac{\\lambda_{n}}{\\lambda_{1}}}(\\log{2} - \\log{\\frac{e_k}{e_0} })$\n",
    "\n",
    "$ k \\leq 2151$\n"
   ]
  },
  {
   "cell_type": "markdown",
   "metadata": {
    "slideshow": {
     "slide_type": "fragment"
    }
   },
   "source": [
    "## Задача 2 (40 pts)\n",
    "\n",
    "### Спектральное разбиение графа и обратная итерация\n",
    "\n",
    "\n",
    "Дан связный граф $G$ и соответствующий ему лапласиан $L = D - A$ с собственными значениями  $0=\\lambda_1, \\lambda_2, ..., \\lambda_n$, где $D$ диагональная матрица со степенями вершин на диагонали, а $A$ – матрица смежности.\n",
    "Вектор Фидлера – это собственный вектор, соответствующий собственному значению $\\lambda_2$ матрицы $L$. Этот вектор может быть использован для разбиения графа: положительные значения соответствуют одной части графа, отрицательные – другой."
   ]
  },
  {
   "cell_type": "markdown",
   "metadata": {},
   "source": [
    "### Метод обратной итерации (15 pts)\n",
    "\n",
    "Для поиска вектора Фидлера мы будем использовать метод Релея.\n",
    "\n",
    "* (5 pts) Выпишите матрицу ортопроектора на подпространство ортогональное собственному вектору матрице $L$, соответствующему собственному значению $0$ и докажите (аналитически), что это действительно ортопроектор.\n",
    " \n",
    "* (5 pts) Реализуйте функцию спектрального разделения графа ```partition```:"
   ]
  },
  {
   "cell_type": "markdown",
   "metadata": {},
   "source": [
    "Собственный вектор, соответствующий собственному значению 0, это вектор $e^T = [ 1 ... 1 ]$, потому что\n",
    "Лапласиан $L = D - A$ графа $G$ с $n$ вершинами определяется как матрица $L$ с элементами\n",
    "\n",
    "$\n",
    "L_{ij} = \\begin{cases}\n",
    "d_{i}, \\; & i = j, \\\\\n",
    "-a_{ij}, \\; & i \\neq j,\n",
    "\\end{cases}\n",
    "$\n",
    "\n",
    "Cумма элементов в каждой строке равна $0$,вектор $e^T = [ 1 ... 1 ]$, является собственным вектором лапласиана, соответствующим собственному значению 0.\n",
    "\n",
    "Найдем матрицу ортопроекции на пространство, ортогональное собственному вектору $e$. Пусть $V$ перпендикулярное к $e$ пространство, тогда ортопроекция произвольного вектора $c$:\n",
    "\n",
    "$ c_{\\bot} = c - c_{e} = I c - \\frac{e e^T}{e^T e} c $\n",
    "\n",
    "Следовательно, матрица ортопроекции:\n",
    "$ P = I - \\frac{e e^T}{e^T e} $\n",
    "\n",
    "Проверим, взяв любой произвольный вектор $x^T$ = $[x_1 ... x_n]$:\n",
    "\n",
    "$ Px = x - \\frac{1}{n}\n",
    "\\begin{bmatrix}\n",
    "\\sum_i x_i \\\\\n",
    "\\vdots \\\\\n",
    "\\sum_i x_i \\\\\n",
    "\\end{bmatrix} = x - \\frac{(x, e)}{(e,e)} e\n",
    "$"
   ]
  },
  {
   "cell_type": "code",
   "execution_count": 3,
   "metadata": {},
   "outputs": [],
   "source": [
    "import numpy as np\n",
    "import scipy as sp\n",
    "from scipy import sparse\n",
    "\n",
    "import networkx as nx\n",
    "from networkx.linalg.algebraicconnectivity import fiedler_vector\n",
    "\n",
    "import matplotlib.pyplot as plt\n",
    "from scipy.sparse import linalg"
   ]
  },
  {
   "cell_type": "code",
   "execution_count": 4,
   "metadata": {},
   "outputs": [],
   "source": [
    "# INPUT:\n",
    "# A - adjacency matrix (scipy.sparse.csr_matrix)\n",
    "# num_iter_fix - number of iterations with fixed shift (float)\n",
    "# shift - (float number)\n",
    "# num_iter_adapt - number of iterations with adaptive shift (int) -- Rayleigh quotient iteration steps\n",
    "# x0 - initial guess (1D numpy.ndarray)\n",
    "# OUTPUT:\n",
    "# x - normalized Fiedler vector (1D numpy.ndarray)\n",
    "# eigs - eigenvalue estimations at each step (1D numpy.ndarray)\n",
    "# eps - relative tolerance (float)\n",
    "def estimation_(eigs, eps):\n",
    "    return (abs(eigs[-2] - eigs[-1]) / eigs[-1] <= eps)\n",
    "    \n",
    "def P_operator(x):\n",
    "    return x - np.ones_like(x) * np.sum(x) / x.shape[0]\n",
    "\n",
    "def partition(A, shift, num_iter_fix, num_iter_adapt, x0, eps):\n",
    "    x_k = x0 / np.linalg.norm(x0)\n",
    "    eigs = np.array([0])\n",
    "    L, I = nx.laplacian_matrix(nx.from_scipy_sparse_matrix(A)), sp.sparse.identity(x_k.shape[0])\n",
    "    \n",
    "    for _ in range(num_iter_fix):\n",
    "        x_k = P_operator(x_k)\n",
    "        x_k = sp.sparse.linalg.spsolve(L - shift * I, x_k)\n",
    "        x_k /= np.linalg.norm(x_k, 2)\n",
    "        eigs = np.append(eigs, np.dot(x_k, L.dot(x_k)))\n",
    "        \n",
    "        if estimation_(eigs, eps):\n",
    "            return x_k, eigs\n",
    "        \n",
    "    for _ in range(num_iter_adapt):\n",
    "        x_k = P_operator(x_k)\n",
    "        x_k = sp.sparse.linalg.spsolve(L - np.dot(x_k, L.dot(x_k)) * I, x_k)\n",
    "        x_k /= np.linalg.norm(x_k, 2)\n",
    "        eigs = np.append(eigs, np.dot(x_k, L.dot(x_k)))\n",
    "        \n",
    "        if estimation_(eigs, eps):\n",
    "            return x_k, eigs            \n",
    "        \n",
    "    return x_k, eigs"
   ]
  },
  {
   "cell_type": "markdown",
   "metadata": {},
   "source": [
    "Алгоритм должен останавливаться спустя `num_iter_fix + num_iter_adapt` итераций или если выполнено следующее соотношение\n",
    "\n",
    "$$ \\boxed{\\|\\lambda_k - \\lambda_{k-1}\\|_2 / \\|\\lambda_k\\|_2 \\leq \\varepsilon} \\text{ на некотором шаге } k.$$\n",
    "\n",
    "Не забудьте использовать ортогональную проекцию из задачи выше в итерационном процессе, чтобы получить верный собственный вектор.\n",
    "Также хорошей идеей могло быть использование ```shift=0``` до запуска адаптивного режима. Однако это невозможно в силу вырождннности матрицы $L$, а разреженное разложенное в ```scipy``` не работет в этом случае. Поэтому вместо нулевого сдвига предлагается использовать некоторое малое значение.\n",
    "\n",
    "* (3 pts) Сгенерируйте случайный `lollipop_graph`, используя библиотеку `networkx`, и найдите его разбиение. [Нарисуйте](https://networkx.github.io/documentation/networkx-1.9/examples/drawing/labels_and_colors.html) этот граф с вершинами окрашенными в соответствии с разбиением.\n",
    "\n",
    "* (2 pts) Запустите метод со случайного начального приближение ```x0```, установите ```num_iter_fix=0``` и объясните, почему метод может сойтись к неверному собственному значению?"
   ]
  },
  {
   "cell_type": "code",
   "execution_count": 5,
   "metadata": {},
   "outputs": [],
   "source": [
    "m, n = (10, 20)\n",
    "G = nx.lollipop_graph(m, n)\n",
    "A = nx.adjacency_matrix(G)\n",
    "x0 = np.random.random((A.shape[0],)).astype(np.float64)\n",
    "\n",
    "eigs_builtin = np.sort(np.linalg.eigh(nx.laplacian_matrix(G).todense())[0])\n",
    "x, eigs = partition(A, 0.01, 10, 100, x0, 0.00001)"
   ]
  },
  {
   "cell_type": "code",
   "execution_count": 6,
   "metadata": {},
   "outputs": [
    {
     "name": "stderr",
     "output_type": "stream",
     "text": [
      "/Users/mariadonskova/opt/anaconda3/lib/python3.7/site-packages/networkx/drawing/nx_pylab.py:579: MatplotlibDeprecationWarning: \n",
      "The iterable function was deprecated in Matplotlib 3.1 and will be removed in 3.3. Use np.iterable instead.\n",
      "  if not cb.iterable(width):\n"
     ]
    },
    {
     "data": {
      "image/png": "[encoded data removed]",
      "text/plain": [
       "<Figure size 1080x720 with 1 Axes>"
      ]
     },
     "metadata": {},
     "output_type": "display_data"
    }
   ],
   "source": [
    "pos = nx.spring_layout(G)\n",
    "plt.figure(figsize=(15,10))\n",
    "nx.draw_networkx(G, pos, node_color=np.sign(x))"
   ]
  },
  {
   "cell_type": "code",
   "execution_count": 7,
   "metadata": {},
   "outputs": [],
   "source": [
    "# Место для Вашего решения"
   ]
  },
  {
   "cell_type": "code",
   "execution_count": 8,
   "metadata": {},
   "outputs": [
    {
     "name": "stdout",
     "output_type": "stream",
     "text": [
      "0.012734401114602275 1.1804696656284113\n"
     ]
    }
   ],
   "source": [
    "x0 = np.random.random((A.shape[0],)).astype(np.float32)\n",
    "\n",
    "eigs_builtin = np.sort(np.linalg.eigh(nx.laplacian_matrix(G).todense())[0])\n",
    "x, eigs = partition(A, 1e-3, 0, 5, x0, 1e-5)\n",
    "print(eigs_builtin[1], eigs[-1])"
   ]
  },
  {
   "cell_type": "markdown",
   "metadata": {},
   "source": [
    "Без «сдвига» нет первого цикла, мы не делаем ортогональную проекцию, поэтому можем сходиться к собственному значению = 0 и его вектору. (Важно также большое число итераций)"
   ]
  },
  {
   "cell_type": "markdown",
   "metadata": {},
   "source": [
    "### Спектральные свойства графа (15 pts)\n",
    "\n",
    "* (5 pts) Докажите, что кратность собственного значения $0$ в спектре лапласиана графа равна числу связных компонент.\n",
    "* (10 pts) Второе наименьшее собственное значение $L(G)$, $\\lambda_2(L(G))$, часто называется алгебраической связностью графа $G$. \n",
    "За подобным использованием этого термина стоят следующие рассуждения: граф с большей алгебраической связностью обычно имеет больше рёбер и следовательно его можно считать \"более связным\".  \n",
    "Для проверки этого утверждения создайте несколько графов с одинаковым числом вершин. \n",
    "Одним из них должен быть простой циклический граф $C_{30}$, а другим – полный граф $K_{30}$. (Вы также можете менять число вершин в ваших эксипериментах, если это имеет смысл, но не делайте его слишком маленьким). Используйте библиотку ```networkx``` для создания графов.\n",
    "    * Найдите алгебраическую связность для каждого графа, используя метод обратной итерации (с переключением на метод Релея)\n",
    "    * Нарисуйте зависимость $\\lambda_2(G_i)$ от $|E_i|$ – количества вершин.\n",
    "    * Нарисуйте разбиение нескольких графов из множества сгенерированных\n",
    "    * Прокомментируйте результаты"
   ]
  },
  {
   "cell_type": "code",
   "execution_count": 9,
   "metadata": {},
   "outputs": [],
   "source": [
    "# Место для Вашего решения"
   ]
  },
  {
   "cell_type": "markdown",
   "metadata": {},
   "source": [
    "Использовалось: http://math.uchicago.edu/~may/REU2013/REUPapers/Marsden.pdf :\n",
    "\n",
    "\"G имеет k связанных компонент тогда и только тогда, когда его матрица смежности может быть блочно-диагональной с k блоками если и только если ее матрица Лапласа имеет k блоков.\n",
    "Разделим $L$ на блоки $L_1, L_2, ..., L_k$\n",
    "\n",
    "тогда $det(xI - L) = det(xI - L_1)det(xI - L_2)...det(xI - L_k)$, так что алгебраическая кратность 0 для всей матрицы Лапласа является суммой алгебраической кратности 0 каждого $L_i$. \n",
    "\n",
    "Если G имеет k связанных конпонент, тогда эта сумма равна 1 + ··· + 1 $k$ раз, те k. В другую сторону, если алгебраическая кратность лапласиана равна k, тогда сумма равна k, поэтому в лапласиане должно быть k блоков, и поэтому G должна иметь k связанных компонент. \""
   ]
  },
  {
   "cell_type": "markdown",
   "metadata": {
    "slideshow": {
     "slide_type": "fragment"
    }
   },
   "source": [
    "### Разбиение изображения на две части (10 pts)\n",
    "\n",
    "Рассмотрим граф, полученный из бинаризованного изображения. Вершинами графа являются только пиксели, в которых стоит $1$. Также каждая вершина имеет не более 8 соседей, то есть степень каждой вершины графа ограничена 8.\n",
    "* (3 pts) Найдите изображение минимального размера $(256, 256)$ и бинаризуйте его так, чтобы граф, построенный на основе чёрных пикселей имел в точности одну связную компоненту.\n",
    "* (5 pts) Напишите функцию для построения разреженной матрицы смежности из бинаризованного изображения, имея в виду вышеописанные правила\n",
    "* (2 pts) Найдите разбиение итогового графа и нарисуйте изображение в соответствии с этим разбиением. Объясните результат."
   ]
  },
  {
   "cell_type": "code",
   "execution_count": null,
   "metadata": {},
   "outputs": [],
   "source": [
    "# Место для Вашего решения"
   ]
  },
  {
   "cell_type": "code",
   "execution_count": 11,
   "metadata": {},
   "outputs": [
    {
     "data": {
      "image/png": "[encoded data removed]",
      "text/plain": [
       "<PIL.PngImagePlugin.PngImageFile image mode=P size=225x225 at 0xA1796A390>"
      ]
     },
     "execution_count": 11,
     "metadata": {},
     "output_type": "execute_result"
    }
   ],
   "source": [
    "from PIL import Image\n",
    "from itertools import product\n",
    "img0 = Image.open(\"smile.png\")\n",
    "img0"
   ]
  },
  {
   "cell_type": "code",
   "execution_count": null,
   "metadata": {},
   "outputs": [],
   "source": []
  }
 ],
 "metadata": {
  "kernelspec": {
   "display_name": "Python 3",
   "language": "python",
   "name": "python3"
  },
  "language_info": {
   "codemirror_mode": {
    "name": "ipython",
    "version": 3
   },
   "file_extension": ".py",
   "mimetype": "text/x-python",
   "name": "python",
   "nbconvert_exporter": "python",
   "pygments_lexer": "ipython3",
   "version": "3.7.4"
  }
 },
 "nbformat": 4,
 "nbformat_minor": 2
}
